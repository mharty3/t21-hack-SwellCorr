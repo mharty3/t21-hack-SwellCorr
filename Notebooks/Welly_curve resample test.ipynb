{
 "cells": [
  {
   "cell_type": "code",
   "execution_count": 1,
   "id": "66dad2dc",
   "metadata": {},
   "outputs": [],
   "source": [
    "from welly import Project,Well,Curve\n",
    "from pathlib import Path\n",
    "import os"
   ]
  },
  {
   "cell_type": "code",
   "execution_count": 2,
   "id": "21f165f7",
   "metadata": {},
   "outputs": [
    {
     "name": "stdout",
     "output_type": "stream",
     "text": [
      "C:\\Users\\MBelobraydic\\Documents\\Python Scripts\\Transform2021\\SwellCorr\\t21-hack-SwellCorr\\Notebooks\n",
      "C:\\Users\\MBelobraydic\\Documents\\Python Scripts\\Transform2021\\SwellCorr\\t21-hack-SwellCorr\n"
     ]
    }
   ],
   "source": [
    "print(Path.cwd())\n",
    "os.chdir(\"..\")\n",
    "print(Path.cwd())"
   ]
  },
  {
   "cell_type": "code",
   "execution_count": 3,
   "id": "f4b5b5de",
   "metadata": {},
   "outputs": [
    {
     "name": "stderr",
     "output_type": "stream",
     "text": [
      "0it [00:00, ?it/s]C:\\Users\\MBelobraydic\\anaconda3\\lib\\site-packages\\welly\\well.py:193: FutureWarning: From v0.5 the default will be 'original', keeping whatever is used in the LAS file. If you want to force conversion to metres, change your code to use `index='m'`.\n",
      "  warnings.warn(m, FutureWarning)\n",
      "4it [00:02,  1.48it/s]\n"
     ]
    }
   ],
   "source": [
    "p = Project.from_las('data/Poseidon_data/las/*.LAS')"
   ]
  },
  {
   "cell_type": "code",
   "execution_count": 4,
   "id": "113e008d",
   "metadata": {},
   "outputs": [],
   "source": [
    "w = p[0]\n",
    "log_list = ['GR','DT']"
   ]
  },
  {
   "cell_type": "code",
   "execution_count": 5,
   "id": "468a176a",
   "metadata": {},
   "outputs": [
    {
     "name": "stdout",
     "output_type": "stream",
     "text": [
      "531.0 5322.5 0.5\n"
     ]
    }
   ],
   "source": [
    "w_ymin = w.data[log_list[0]].basis[0]\n",
    "w_ymax = w.data[log_list[0]].basis[-1]\n",
    "w_step = w.data[log_list[0]].step\n",
    "print(w_ymin, w_ymax, w_step)"
   ]
  },
  {
   "cell_type": "code",
   "execution_count": 6,
   "id": "ef5fca18",
   "metadata": {},
   "outputs": [
    {
     "name": "stdout",
     "output_type": "stream",
     "text": [
      "[ 531.   531.5  532.  ... 5321.5 5322.  5322.5]\n"
     ]
    }
   ],
   "source": [
    "w_basis = w.data[log_list[0]].basis\n",
    "print(w_basis)"
   ]
  },
  {
   "cell_type": "code",
   "execution_count": 7,
   "id": "e8a81e43",
   "metadata": {},
   "outputs": [],
   "source": [
    "w_step = 0.05"
   ]
  },
  {
   "cell_type": "code",
   "execution_count": 9,
   "id": "55700c7f",
   "metadata": {},
   "outputs": [],
   "source": [
    "\n",
    "w.data[log_list[0]] = w.data[log_list[0]].to_basis(step=w_step)"
   ]
  },
  {
   "cell_type": "code",
   "execution_count": 10,
   "id": "84eff3d3",
   "metadata": {},
   "outputs": [
    {
     "name": "stdout",
     "output_type": "stream",
     "text": [
      "0.05\n"
     ]
    }
   ],
   "source": [
    "w_step = w.data[log_list[0]].step\n",
    "print(w_step)"
   ]
  },
  {
   "cell_type": "code",
   "execution_count": 11,
   "id": "060b73eb",
   "metadata": {},
   "outputs": [
    {
     "data": {
      "text/plain": [
       "array([ 531.  ,  531.05,  531.1 , ..., 5322.4 , 5322.45, 5322.5 ])"
      ]
     },
     "execution_count": 11,
     "metadata": {},
     "output_type": "execute_result"
    }
   ],
   "source": [
    "w.data[log_list[0]].basis"
   ]
  },
  {
   "cell_type": "code",
   "execution_count": 12,
   "id": "080145de",
   "metadata": {},
   "outputs": [
    {
     "data": {
      "text/plain": [
       "<bound method Well.plot of Well(uwi: 'Kronos-1', 8 curves: ['GR', 'RS', 'RD', 'NPHI', 'RHOB', 'DCAV', 'DT', 'DTS'])>"
      ]
     },
     "execution_count": 12,
     "metadata": {},
     "output_type": "execute_result"
    }
   ],
   "source": [
    "w.plot"
   ]
  },
  {
   "cell_type": "code",
   "execution_count": null,
   "id": "31298c2b",
   "metadata": {},
   "outputs": [],
   "source": []
  }
 ],
 "metadata": {
  "kernelspec": {
   "display_name": "Python 3",
   "language": "python",
   "name": "python3"
  },
  "language_info": {
   "codemirror_mode": {
    "name": "ipython",
    "version": 3
   },
   "file_extension": ".py",
   "mimetype": "text/x-python",
   "name": "python",
   "nbconvert_exporter": "python",
   "pygments_lexer": "ipython3",
   "version": "3.7.10"
  }
 },
 "nbformat": 4,
 "nbformat_minor": 5
}
